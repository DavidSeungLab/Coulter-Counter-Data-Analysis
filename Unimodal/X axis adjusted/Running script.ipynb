{
 "cells": [
  {
   "cell_type": "code",
   "execution_count": null,
   "id": "67e586cc",
   "metadata": {},
   "outputs": [],
   "source": [
    "# Formatting notebook to fit the browser size\n",
    "\n",
    "from IPython.core.display import display, HTML\n",
    "display(HTML(\"<style>.container { width:100% !important; }</style>\"))\n",
    "\n"
   ]
  },
  {
   "cell_type": "code",
   "execution_count": null,
   "id": "2624419c-9c3a-44db-a15e-e3975ff5ca02",
   "metadata": {},
   "outputs": [],
   "source": [
    "#Loading libraries and packages\n",
    "\n",
    "import os"
   ]
  },
  {
   "cell_type": "code",
   "execution_count": null,
   "id": "5eb855c5-4ed3-4fa1-af02-88f7213f1161",
   "metadata": {},
   "outputs": [],
   "source": [
    "#Changing working directory \n",
    "#Note - in your working directory you need folders called:\n",
    "    #1)data_inputs - which contains all the csv files from the coulter counter\n",
    "    #2)output - which is empty which your files will be placed in\n",
    "\n",
    "\n",
    "os.chdir(FILL YOUR WORKING DIRECTORY IN HERE)\n",
    "os.getcwd()"
   ]
  },
  {
   "cell_type": "code",
   "execution_count": null,
   "id": "db98f10e",
   "metadata": {
    "tags": []
   },
   "outputs": [],
   "source": [
    "#Run script\n",
    "\n",
    "%run Batch_running_of_coulter_counter_fitting_script_one_curve_only_shorter_x_axis.ipynb\n",
    "\n",
    "#This will execute the Batch_running_of_coulter_counter_fitting_script_one_curve_only which will then run the coulter_counter_fitting_script in batch\n",
    "#This will produce an output folder containing:\n",
    "    #1) PDF files for each individual trace which compare the fittings from all 3 models\n",
    "    #2) Excel file called 'Parameters_from_fittings' which contains all the parameters from the different models\n",
    "    #3) Excel file called 'Samples_which_fitted_successfully_and_samples_which_failed' which shows if the models couldn't be fitted to any of the samples.  This might happen when the traces are too strange, e.g. unimodal rather than bimodal\n",
    "    #4) Excel file called 'Samples_where_the_script_failed' which shows where there was an error during data import, e.g. maybe the coulter counter file is not saved as a csv.  "
   ]
  }
 ],
 "metadata": {
  "kernelspec": {
   "display_name": "Python 3 (ipykernel)",
   "language": "python",
   "name": "python3"
  },
  "language_info": {
   "codemirror_mode": {
    "name": "ipython",
    "version": 3
   },
   "file_extension": ".py",
   "mimetype": "text/x-python",
   "name": "python",
   "nbconvert_exporter": "python",
   "pygments_lexer": "ipython3",
   "version": "3.9.7"
  }
 },
 "nbformat": 4,
 "nbformat_minor": 5
}
